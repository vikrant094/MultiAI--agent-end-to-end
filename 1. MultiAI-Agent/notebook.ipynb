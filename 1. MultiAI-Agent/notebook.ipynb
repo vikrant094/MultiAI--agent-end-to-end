{
 "cells": [
  {
   "cell_type": "code",
   "execution_count": null,
   "metadata": {},
   "outputs": [],
   "source": []
  },
  {
   "cell_type": "code",
   "execution_count": 1,
   "metadata": {},
   "outputs": [],
   "source": [
    "import os\n",
    "from typing import TypedDict, Annotated, List, Literal, Dict\n",
    "from langchain_core.messages import BaseMessage, HumanMessage, AIMessage, SystemMessage\n",
    "from langchain_groq import ChatGroq\n",
    "from langchain_core.tools import tool\n",
    "from langchain_community.tools.tavily_search import TavilySearchResults\n",
    "from langgraph.graph import StateGraph, END\n",
    "from langgraph.prebuilt import create_react_agent\n",
    "from langgraph.checkpoint.memory import MemorySaver\n",
    "from datetime import datetime"
   ]
  },
  {
   "cell_type": "code",
   "execution_count": null,
   "metadata": {},
   "outputs": [],
   "source": []
  },
  {
   "cell_type": "code",
   "execution_count": 2,
   "metadata": {},
   "outputs": [],
   "source": [
    "import os\n",
    "from dotenv import load_dotenv\n",
    "load_dotenv()\n",
    "\n",
    "os.environ[\"GROQ_API_KEY\"]=os.getenv(\"GROQ_API_KEY\")"
   ]
  },
  {
   "cell_type": "code",
   "execution_count": 3,
   "metadata": {},
   "outputs": [],
   "source": [
    "from langgraph.graph import StateGraph, END, MessagesState\n",
    "from langgraph.prebuilt import ToolNode\n",
    "from langgraph.checkpoint.memory import MemorySaver"
   ]
  },
  {
   "cell_type": "code",
   "execution_count": 4,
   "metadata": {},
   "outputs": [
    {
     "data": {
      "text/plain": [
       "ChatGroq(client=<groq.resources.chat.completions.Completions object at 0x10b45d690>, async_client=<groq.resources.chat.completions.AsyncCompletions object at 0x10b5a5010>, model_name='llama-3.1-8b-instant', model_kwargs={}, groq_api_key=SecretStr('**********'))"
      ]
     },
     "execution_count": 4,
     "metadata": {},
     "output_type": "execute_result"
    }
   ],
   "source": [
    "from langchain.chat_models import init_chat_model\n",
    "\n",
    "llm = init_chat_model(\"groq:llama-3.1-8b-instant\")\n",
    "llm"
   ]
  },
  {
   "cell_type": "code",
   "execution_count": 5,
   "metadata": {},
   "outputs": [],
   "source": [
    "# ===================================\n",
    "# State Definition\n",
    "# ===================================\n",
    "\n",
    "# ===================================\n",
    "# State Definition\n",
    "# ===================================\n",
    "\n",
    "class SupervisorState(MessagesState):\n",
    "    \"\"\"State for the multi-agent system\"\"\"\n",
    "    next_agent: str = \"\"\n",
    "    research_data: str = \"\"\n",
    "    analysis: str = \"\"\n",
    "    final_report: str = \"\"\n",
    "    task_complete: bool = False\n",
    "    current_task: str = \"\""
   ]
  },
  {
   "cell_type": "code",
   "execution_count": 6,
   "metadata": {},
   "outputs": [],
   "source": [
    "# ===================================\n",
    "# Supervisor with Groq LLM\n",
    "# ===================================\n",
    "from langchain_core.prompts import ChatPromptTemplate\n",
    "def create_supervisor_chain():\n",
    "    \"\"\"Creates the supervisor decision chain\"\"\"\n",
    "    \n",
    "    supervisor_prompt = ChatPromptTemplate.from_messages([\n",
    "        (\"system\", \"\"\"You are a supervisor managing a team of agents:\n",
    "        \n",
    "1. Researcher - Gathers information and data\n",
    "2. Analyst - Analyzes data and provides insights  \n",
    "3. Writer - Creates reports and summaries\n",
    "\n",
    "Based on the current state and conversation, decide which agent should work next.\n",
    "If the task is complete, respond with 'DONE'.\n",
    "\n",
    "Current state:\n",
    "- Has research data: {has_research}\n",
    "- Has analysis: {has_analysis}\n",
    "- Has report: {has_report}\n",
    "\n",
    "Respond with ONLY the agent name (researcher/analyst/writer) or 'DONE'.\n",
    "\"\"\"),\n",
    "        (\"human\", \"{task}\")\n",
    "    ])\n",
    "    \n",
    "    return supervisor_prompt | llm"
   ]
  },
  {
   "cell_type": "code",
   "execution_count": 7,
   "metadata": {},
   "outputs": [],
   "source": [
    "def supervisor_agent(state: SupervisorState) -> Dict:\n",
    "    \"\"\"Supervisor decides next agent using Groq LLM\"\"\"\n",
    "    \n",
    "    messages = state[\"messages\"]\n",
    "    print(\"messages: \", messages)\n",
    "    task = messages[-1].content if messages else \"No task\"\n",
    "    \n",
    "    # Check what's been completed\n",
    "    has_research = bool(state.get(\"research_data\", \"\"))\n",
    "    has_analysis = bool(state.get(\"analysis\", \"\"))\n",
    "    has_report = bool(state.get(\"final_report\", \"\"))\n",
    "    \n",
    "    # Get LLM decision\n",
    "    chain = create_supervisor_chain()\n",
    "    decision = chain.invoke({\n",
    "        \"task\": task,\n",
    "        \"has_research\": has_research,\n",
    "        \"has_analysis\": has_analysis,\n",
    "        \"has_report\": has_report\n",
    "    })\n",
    "    \n",
    "    # Parse decision\n",
    "    decision_text = decision.content.strip().lower()\n",
    "    print(decision_text)\n",
    "    \n",
    "    # Determine next agent\n",
    "    if \"done\" in decision_text or has_report:\n",
    "        next_agent = \"end\"\n",
    "        supervisor_msg = \"✅ Supervisor: All tasks complete! Great work team.\"\n",
    "    elif \"researcher\" in decision_text or not has_research:\n",
    "        next_agent = \"researcher\"\n",
    "        supervisor_msg = \"📋 Supervisor: Let's start with research. Assigning to Researcher...\"\n",
    "    elif \"analyst\" in decision_text or (has_research and not has_analysis):\n",
    "        next_agent = \"analyst\"\n",
    "        supervisor_msg = \"📋 Supervisor: Research done. Time for analysis. Assigning to Analyst...\"\n",
    "    elif \"writer\" in decision_text or (has_analysis and not has_report):\n",
    "        next_agent = \"writer\"\n",
    "        supervisor_msg = \"📋 Supervisor: Analysis complete. Let's create the report. Assigning to Writer...\"\n",
    "    else:\n",
    "        next_agent = \"end\"\n",
    "        supervisor_msg = \"✅ Supervisor: Task seems complete.\"\n",
    "    \n",
    "    return {\n",
    "        \"messages\": [AIMessage(content=supervisor_msg)],\n",
    "        \"next_agent\": next_agent,\n",
    "        \"current_task\": task\n",
    "    }"
   ]
  },
  {
   "cell_type": "code",
   "execution_count": 8,
   "metadata": {},
   "outputs": [],
   "source": [
    "# ===================================\n",
    "# Agent 1: Researcher (using Groq)\n",
    "# ===================================\n",
    "\n",
    "def researcher_agent(state: SupervisorState) -> Dict:\n",
    "    \"\"\"Researcher uses Groq to gather information\"\"\"\n",
    "    \n",
    "    task = state.get(\"current_task\", \"research topic\")\n",
    "    \n",
    "    # Create research prompt\n",
    "    research_prompt = f\"\"\"As a research specialist, provide comprehensive information about: {task}\n",
    "\n",
    "    Include:\n",
    "    1. Key facts and background\n",
    "    2. Current trends or developments\n",
    "    3. Important statistics or data points\n",
    "    4. Notable examples or case studies\n",
    "    \n",
    "    Be concise but thorough.\"\"\"\n",
    "    \n",
    "    # Get research from LLM\n",
    "    research_response = llm.invoke([HumanMessage(content=research_prompt)])\n",
    "    research_data = research_response.content\n",
    "    \n",
    "    # Create agent message\n",
    "    agent_message = f\"🔍 Researcher: I've completed the research on '{task}'.\\n\\nKey findings:\\n{research_data[:500]}...\"\n",
    "    \n",
    "    return {\n",
    "        \"messages\": [AIMessage(content=agent_message)],\n",
    "        \"research_data\": research_data,\n",
    "        \"next_agent\": \"supervisor\"\n",
    "    }"
   ]
  },
  {
   "cell_type": "code",
   "execution_count": 9,
   "metadata": {},
   "outputs": [],
   "source": [
    "# ===================================\n",
    "# Agent 2: Analyst (using Groq)\n",
    "# ===================================\n",
    "\n",
    "def analyst_agent(state: SupervisorState) -> Dict:\n",
    "    \"\"\"Analyst uses Groq to analyze the research\"\"\"\n",
    "    \n",
    "    research_data = state.get(\"research_data\", \"\")\n",
    "    task = state.get(\"current_task\", \"\")\n",
    "    \n",
    "    # Create analysis prompt\n",
    "    analysis_prompt = f\"\"\"As a data analyst, analyze this research data and provide insights:\n",
    "\n",
    "Research Data:\n",
    "{research_data}\n",
    "\n",
    "Provide:\n",
    "1. Key insights and patterns\n",
    "2. Strategic implications\n",
    "3. Risks and opportunities\n",
    "4. Recommendations\n",
    "\n",
    "Focus on actionable insights related to: {task}\"\"\"\n",
    "    \n",
    "    # Get analysis from LLM\n",
    "    analysis_response = llm.invoke([HumanMessage(content=analysis_prompt)])\n",
    "    analysis = analysis_response.content\n",
    "    \n",
    "    # Create agent message\n",
    "    agent_message = f\"📊 Analyst: I've completed the analysis.\\n\\nTop insights:\\n{analysis[:400]}...\"\n",
    "    \n",
    "    return {\n",
    "        \"messages\": [AIMessage(content=agent_message)],\n",
    "        \"analysis\": analysis,\n",
    "        \"next_agent\": \"supervisor\"\n",
    "    }"
   ]
  },
  {
   "cell_type": "code",
   "execution_count": 10,
   "metadata": {},
   "outputs": [],
   "source": [
    "# ===================================\n",
    "# Agent 3: Writer (using Groq)\n",
    "# ===================================\n",
    "\n",
    "def writer_agent(state: SupervisorState) -> Dict:\n",
    "    \"\"\"Writer uses Groq to create final report\"\"\"\n",
    "    \n",
    "    research_data = state.get(\"research_data\", \"\")\n",
    "    analysis = state.get(\"analysis\", \"\")\n",
    "    task = state.get(\"current_task\", \"\")\n",
    "    \n",
    "    # Create writing prompt\n",
    "    writing_prompt = f\"\"\"As a professional writer, create an executive report based on:\n",
    "\n",
    "Task: {task}\n",
    "\n",
    "Research Findings:\n",
    "{research_data[:1000]}\n",
    "\n",
    "Analysis:\n",
    "{analysis[:1000]}\n",
    "\n",
    "Create a well-structured report with:\n",
    "1. Executive Summary\n",
    "2. Key Findings  \n",
    "3. Analysis & Insights\n",
    "4. Recommendations\n",
    "5. Conclusion\n",
    "\n",
    "Keep it professional and concise.\"\"\"\n",
    "    \n",
    "    # Get report from LLM\n",
    "    report_response = llm.invoke([HumanMessage(content=writing_prompt)])\n",
    "    report = report_response.content\n",
    "    \n",
    "    # Create final formatted report\n",
    "    final_report = f\"\"\"\n",
    "📄 FINAL REPORT\n",
    "{'='*50}\n",
    "Generated: {datetime.now().strftime('%Y-%m-%d %H:%M')}\n",
    "Topic: {task}\n",
    "{'='*50}\n",
    "\n",
    "{report}\n",
    "\n",
    "{'='*50}\n",
    "Report compiled by Multi-Agent AI System powered by Groq\n",
    "\"\"\"\n",
    "    \n",
    "    return {\n",
    "        \"messages\": [AIMessage(content=f\"✍️ Writer: Report complete! See below for the full document.\")],\n",
    "        \"final_report\": final_report,\n",
    "        \"next_agent\": \"supervisor\",\n",
    "        \"task_complete\": True\n",
    "    }"
   ]
  },
  {
   "cell_type": "code",
   "execution_count": 11,
   "metadata": {},
   "outputs": [],
   "source": [
    "# ===================================\n",
    "# Router Function\n",
    "# ===================================\n",
    "\n",
    "def router(state: SupervisorState) -> Literal[\"supervisor\", \"researcher\", \"analyst\", \"writer\", \"__end__\"]:\n",
    "    \"\"\"Routes to next agent based on state\"\"\"\n",
    "    \n",
    "    next_agent = state.get(\"next_agent\", \"supervisor\")\n",
    "    \n",
    "    if next_agent == \"end\" or state.get(\"task_complete\", False):\n",
    "        return END\n",
    "        \n",
    "    if next_agent in [\"supervisor\", \"researcher\", \"analyst\", \"writer\"]:\n",
    "        return next_agent\n",
    "        \n",
    "    return \"supervisor\""
   ]
  },
  {
   "cell_type": "code",
   "execution_count": 12,
   "metadata": {},
   "outputs": [],
   "source": [
    "# Create workflow\n",
    "workflow = StateGraph(SupervisorState)\n",
    "\n",
    "# Add nodes\n",
    "workflow.add_node(\"supervisor\", supervisor_agent)\n",
    "workflow.add_node(\"researcher\", researcher_agent)\n",
    "workflow.add_node(\"analyst\", analyst_agent)\n",
    "workflow.add_node(\"writer\", writer_agent)\n",
    "# Set entry point\n",
    "workflow.set_entry_point(\"supervisor\")\n",
    "\n",
    "# Add routing\n",
    "for node in [\"supervisor\", \"researcher\", \"analyst\", \"writer\"]:\n",
    "    workflow.add_conditional_edges(\n",
    "        node,\n",
    "        router,\n",
    "        {\n",
    "            \"supervisor\": \"supervisor\",\n",
    "            \"researcher\": \"researcher\",\n",
    "            \"analyst\": \"analyst\",\n",
    "            \"writer\": \"writer\",\n",
    "            END: END\n",
    "        }\n",
    "    )\n",
    "\n",
    "graph=workflow.compile()\n",
    "    "
   ]
  },
  {
   "cell_type": "code",
   "execution_count": 13,
   "metadata": {},
   "outputs": [
    {
     "data": {
      "image/png": "[encoded data removed]",
      "text/plain": [
       "<langgraph.graph.state.CompiledStateGraph object at 0x10b613650>"
      ]
     },
     "execution_count": 13,
     "metadata": {},
     "output_type": "execute_result"
    }
   ],
   "source": [
    "graph"
   ]
  },
  {
   "cell_type": "code",
   "execution_count": 16,
   "metadata": {},
   "outputs": [
    {
     "name": "stdout",
     "output_type": "stream",
     "text": [
      "researcher\n",
      "analyst\n",
      "analyst\n",
      "writer\n"
     ]
    }
   ],
   "source": [
    "response=graph.invoke(HumanMessage(content=\"I wants to build text recognition pipeline to enhance the capbility of inhouse invoice palidation pipeline?\"))"
   ]
  },
  {
   "cell_type": "code",
   "execution_count": 17,
   "metadata": {},
   "outputs": [
    {
     "data": {
      "text/plain": [
       "'\\n📄 FINAL REPORT\\n==================================================\\nGenerated: 2025-08-29 16:52\\nTopic: 📊 Analyst: I\\'ve completed the analysis.\\n\\nTop insights:\\n**Topic:** \"The Impact of Climate Change on Global Food Systems\"\\n\\n**1. Key Facts and Background:**\\n\\nClimate change poses significant threats to global food systems, affecting food availability, access, and utilization. Rising temperatures, changing precipitation patterns, and increased frequency of extreme weather events can lead to crop failures, reduced yields, and altered growing seasons.\\n\\n* Hi...\\n==================================================\\n\\n**Executive Report: The Impact of Climate Change on Global Food Systems**\\n\\n**Date:** August 29, 2024\\n\\n**Introduction:**\\n\\nClimate change poses a significant threat to global food systems, affecting the availability, access, and utilization of food. Rising temperatures, changing precipitation patterns, and increased frequency of extreme weather events can lead to crop failures, reduced yields, and altered growing seasons. This report summarizes the key findings of our analysis and provides recommendations for addressing the impact of climate change on global food systems.\\n\\n**Executive Summary:**\\n\\nOur analysis highlights the critical need for immediate action to address the impact of climate change on global food systems. Rising temperatures, changing precipitation patterns, and increased frequency of extreme weather events threaten food availability, access, and utilization. We recommend a multi-faceted approach to address these challenges, including investment in climate-resilient agriculture, support for small-scale farmers, and promotion of sustainable food systems.\\n\\n**Key Findings:**\\n\\n1. **Rising Temperatures:** Global temperatures are projected to rise by 2-5°C by 2100, leading to reduced crop yields and altered growing seasons.\\n2. **Changing Precipitation Patterns:** Shifts in precipitation patterns will lead to droughts and floods, affecting food availability and access.\\n3. **Increased Frequency of Extreme Weather Events:** Increased frequency of heatwaves, droughts, and floods will exacerbate food insecurity.\\n4. **Impact on Small-Scale Farmers:** Small-scale farmers are disproportionately affected by climate change, with reduced yields and decreased access to markets.\\n5. **Food Insecurity:** Climate change threatens to undermine food security, exacerbating hunger, malnutrition, and social inequality.\\n\\n**Analysis & Insights:**\\n\\nOur analysis reveals that climate change poses a significant threat to global food systems. Rising temperatures, changing precipitation patterns, and increased frequency of extreme weather events will have far-reaching consequences for food availability, access, and utilization. We recommend a multi-faceted approach to address these challenges, including:\\n\\n1. **Investment in Climate-Resilient Agriculture:** Support for climate-resilient agriculture practices, such as agroforestry and conservation agriculture.\\n2. **Support for Small-Scale Farmers:** Support for small-scale farmers, including access to finance, markets, and climate-resilient agriculture practices.\\n3. **Promotion of Sustainable Food Systems:** Promotion of sustainable food systems, including reduced meat consumption, increased use of organic and regenerative agriculture practices.\\n4. **Climate Change Adaptation and Resilience:** Investment in climate change adaptation and resilience, including early warning systems, climate-resilient infrastructure, and climate-resilient agriculture practices.\\n\\n**Recommendations:**\\n\\n1. **Invest $10 billion in climate-resilient agriculture practices over the next 5 years.**\\n2. **Provide $5 billion in support for small-scale farmers over the next 5 years.**\\n3. **Promote sustainable food systems through education and awareness-raising campaigns.**\\n4. **Invest $1 billion in climate change adaptation and resilience over the next 5 years.**\\n\\n**Conclusion:**\\n\\nClimate change poses a significant threat to global food systems, affecting food availability, access, and utilization. Our analysis highlights the critical need for immediate action to address these challenges. We recommend a multi-faceted approach to address these challenges, including investment in climate-resilient agriculture, support for small-scale farmers, and promotion of sustainable food systems. We urge policymakers, stakeholders, and individuals to take action to address the impact of climate change on global food systems.\\n\\n**Appendices:**\\n\\n1. **Methodology:** Details of the analysis and research methodology used.\\n2. **Data Sources:** Sources of data used in the analysis.\\n3. **Recommendations for Further Research:** Suggestions for further research and analysis.\\n\\n**Contact Information:**\\n\\nFor further information, please contact:\\n\\n[Name]\\n[Title]\\n[Organization]\\n[Email]\\n[Phone]\\n\\n==================================================\\nReport compiled by Multi-Agent AI System powered by Groq\\n'"
      ]
     },
     "execution_count": 17,
     "metadata": {},
     "output_type": "execute_result"
    }
   ],
   "source": [
    "response['final_report']"
   ]
  },
  {
   "cell_type": "code",
   "execution_count": 18,
   "metadata": {},
   "outputs": [
    {
     "name": "stdout",
     "output_type": "stream",
     "text": [
      "==================================\u001b[1m Ai Message \u001b[0m==================================\n",
      "\n",
      "📋 Supervisor: Let's start with research. Assigning to Researcher...\n",
      "==================================\u001b[1m Ai Message \u001b[0m==================================\n",
      "\n",
      "🔍 Researcher: I've completed the research on 'No task'.\n",
      "\n",
      "Key findings:\n",
      "It seems that you haven't specified a particular topic. However, I can guide you through the process of researching and providing information for any given topic.\n",
      "\n",
      "Let's assume a topic is chosen or you provide one. Here's a general outline:\n",
      "\n",
      "**Topic:** (Insert topic here)\n",
      "\n",
      "**1. Key Facts and Background:**\n",
      "- Provide a brief overview of the topic, including its definition, history, and significance.\n",
      "- Summarize the current state of knowledge and research in the field.\n",
      "\n",
      "**2. Current Trends or Devel...\n",
      "==================================\u001b[1m Ai Message \u001b[0m==================================\n",
      "\n",
      "📋 Supervisor: Research done. Time for analysis. Assigning to Analyst...\n",
      "==================================\u001b[1m Ai Message \u001b[0m==================================\n",
      "\n",
      "📊 Analyst: I've completed the analysis.\n",
      "\n",
      "Top insights:\n",
      "It seems there's been a misunderstanding. Since you haven't specified a particular topic and I previously suggested a general outline, I'll provide a specific topic and complete the research.\n",
      "\n",
      "**Topic:** \"The Impact of Climate Change on Global Food Systems\"\n",
      "\n",
      "Now, I'll follow the outline and provide insights based on the research data.\n",
      "\n",
      "**Research Data:**\n",
      "\n",
      "After conducting research on the topic, I'...\n",
      "==================================\u001b[1m Ai Message \u001b[0m==================================\n",
      "\n",
      "📋 Supervisor: Research done. Time for analysis. Assigning to Analyst...\n",
      "==================================\u001b[1m Ai Message \u001b[0m==================================\n",
      "\n",
      "📊 Analyst: I've completed the analysis.\n",
      "\n",
      "Top insights:\n",
      "**Topic:** \"The Impact of Climate Change on Global Food Systems\"\n",
      "\n",
      "**1. Key Facts and Background:**\n",
      "\n",
      "Climate change poses significant threats to global food systems, affecting food availability, access, and utilization. Rising temperatures, changing precipitation patterns, and increased frequency of extreme weather events can lead to crop failures, reduced yields, and altered growing seasons.\n",
      "\n",
      "* Hi...\n",
      "==================================\u001b[1m Ai Message \u001b[0m==================================\n",
      "\n",
      "📋 Supervisor: Analysis complete. Let's create the report. Assigning to Writer...\n",
      "==================================\u001b[1m Ai Message \u001b[0m==================================\n",
      "\n",
      "✍️ Writer: Report complete! See below for the full document.\n"
     ]
    }
   ],
   "source": [
    "for m in response['messages']:\n",
    "    m.pretty_print()"
   ]
  },
  {
   "cell_type": "code",
   "execution_count": null,
   "metadata": {},
   "outputs": [],
   "source": []
  }
 ],
 "metadata": {
  "kernelspec": {
   "display_name": "Python 3",
   "language": "python",
   "name": "python3"
  },
  "language_info": {
   "codemirror_mode": {
    "name": "ipython",
    "version": 3
   },
   "file_extension": ".py",
   "mimetype": "text/x-python",
   "name": "python",
   "nbconvert_exporter": "python",
   "pygments_lexer": "ipython3",
   "version": "3.11.13"
  },
  "orig_nbformat": 4
 },
 "nbformat": 4,
 "nbformat_minor": 2
}
